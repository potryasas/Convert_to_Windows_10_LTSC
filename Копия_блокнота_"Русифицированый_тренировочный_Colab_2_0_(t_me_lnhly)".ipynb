{
  "nbformat": 4,
  "nbformat_minor": 0,
  "metadata": {
    "colab": {
      "provenance": [],
      "collapsed_sections": [
        "6ulqyylzXilu",
        "k1qadJBFehMo",
        "ENoH-pShel7w"
      ],
      "include_colab_link": true
    },
    "kernelspec": {
      "name": "python3",
      "display_name": "Python 3"
    },
    "language_info": {
      "name": "python"
    },
    "accelerator": "GPU",
    "gpuClass": "standard"
  },
  "cells": [
    {
      "cell_type": "markdown",
      "metadata": {
        "id": "view-in-github",
        "colab_type": "text"
      },
      "source": [
        "<a href=\"https://colab.research.google.com/github/potryasas/LTSC/blob/main/%D0%9A%D0%BE%D0%BF%D0%B8%D1%8F_%D0%B1%D0%BB%D0%BE%D0%BA%D0%BD%D0%BE%D1%82%D0%B0_%22%D0%A0%D1%83%D1%81%D0%B8%D1%84%D0%B8%D1%86%D0%B8%D1%80%D0%BE%D0%B2%D0%B0%D0%BD%D1%8B%D0%B9_%D1%82%D1%80%D0%B5%D0%BD%D0%B8%D1%80%D0%BE%D0%B2%D0%BE%D1%87%D0%BD%D1%8B%D0%B9_Colab_2_0_(t_me_lnhly)%22.ipynb\" target=\"_parent\"><img src=\"https://colab.research.google.com/assets/colab-badge.svg\" alt=\"Open In Colab\"/></a>"
      ]
    },
    {
      "cell_type": "markdown",
      "source": [
        "**Русифицированный Colab от [lunnaholy](https://t.me/lnhly)**"
      ],
      "metadata": {
        "id": "326SMUINStvn"
      }
    },
    {
      "cell_type": "markdown",
      "source": [
        "Колаб для генерации вокала: [тык](https://colab.research.google.com/drive/1o1gtZ5djnuYjFhAPx06CZyESkW9Ofk9P)"
      ],
      "metadata": {
        "id": "UsDpqZG0TE7v"
      }
    },
    {
      "cell_type": "markdown",
      "source": [
        "# Первоначальная настройка"
      ],
      "metadata": {
        "id": "6ulqyylzXilu"
      }
    },
    {
      "cell_type": "code",
      "execution_count": null,
      "metadata": {
        "id": "LS0OPRkL4Pme"
      },
      "outputs": [],
      "source": [
        "#@title Установка зависимостей\n",
        "!git clone https://github.com/effusiveperiscope/so-vits-svc -b eff-4.0\n",
        "\n",
        "%cd /content/so-vits-svc\n",
        "!pip install pyworld praat-parselmouth\n",
        "!python -m pip install --upgrade pip\n",
        "!pip install fairseq==0.12.2 librosa==0.8.1 numpy==1.23.5\n",
        "!wget -P hubert/ https://huggingface.co/therealvul/so-vits-svc-4.0-init/resolve/main/checkpoint_best_legacy_500.pt"
      ]
    },
    {
      "cell_type": "code",
      "source": [
        "#@title Подсоединение Google Диска\n",
        "from google.colab import drive\n",
        "drive.mount('/content/drive')"
      ],
      "metadata": {
        "id": "wmUkpUmfn_Hs",
        "cellView": "form"
      },
      "execution_count": null,
      "outputs": []
    },
    {
      "cell_type": "markdown",
      "source": [
        "# Обработка датасета\n",
        "\n",
        "Можете пропустить этот раздел, если вы уже имеете модель и хотите продолжить тренировку."
      ],
      "metadata": {
        "id": "k1qadJBFehMo"
      }
    },
    {
      "cell_type": "code",
      "source": [
        "#@title Загрузка датасета\n",
        "#@markdown Название архива\n",
        "DATASETNAME = \"dataset\"  #@param {type:\"string\"}\n",
        "#@markdown Путь к папке (не нужно менять, если грузите по гайду)\n",
        "ZIP_PATH = \"/content/drive/MyDrive/dataset/\"  #@param {type:\"string\"}\n",
        "ZIP_NAME = ZIP_PATH + DATASETNAME\n",
        "\n",
        "!unzip -d /content/so-vits-svc/dataset_raw {ZIP_NAME}.zip"
      ],
      "metadata": {
        "id": "U05CXlAipvJR",
        "cellView": "form"
      },
      "execution_count": null,
      "outputs": []
    },
    {
      "cell_type": "code",
      "source": [
        "#@title Обработка датасета\n",
        "!python resample.py\n",
        "!python preprocess_flist_config.py\n",
        "!python preprocess_hubert_f0.py"
      ],
      "metadata": {
        "id": "_ThKTzYs5CfL"
      },
      "execution_count": null,
      "outputs": []
    },
    {
      "cell_type": "code",
      "source": [
        "#@title Сохранение обработанного датасета\n",
        "#Compress dataset folder\n",
        "!zip -r dataset.zip /content/so-vits-svc/dataset\n",
        "#@markdown Название датасета\n",
        "dataset_name_drive = \"dataset\"  #@param {type:\"string\"}\n",
        "DATASET_PATH_DRIVE = \"/content/drive/MyDrive/dataset/\" + dataset_name_drive\n",
        "!mkdir -p {DATASET_PATH_DRIVE}\n",
        "\n",
        "!cp /content/so-vits-svc/dataset.zip \"{DATASET_PATH_DRIVE}\"\n",
        "!cp configs/config.json \"{DATASET_PATH_DRIVE}\"\n",
        "!cp filelists/train.txt \"{DATASET_PATH_DRIVE}\"\n",
        "!cp filelists/val.txt \"{DATASET_PATH_DRIVE}\""
      ],
      "metadata": {
        "id": "Wo4OTmTAUXgj",
        "cellView": "form"
      },
      "execution_count": null,
      "outputs": []
    },
    {
      "cell_type": "markdown",
      "source": [
        "# Тренировка"
      ],
      "metadata": {
        "id": "ENoH-pShel7w"
      }
    },
    {
      "cell_type": "code",
      "source": [
        "#@title Загрузить обработанный датасет\n",
        "#@markdown Если вы продолжаете тренировку, то вы можете просто загрузить уже обработанный датасет с диска.\n",
        "back_up_name = \"dataset\"  #@param {type:\"string\"}\n",
        "BACK_UP_DATASET_PATH = \"/content/drive/MyDrive/dataset/\" + back_up_name\n",
        "!unzip {BACK_UP_DATASET_PATH}/dataset.zip -d /\n",
        "!cp {BACK_UP_DATASET_PATH}/config.json /content/so-vits-svc/configs/config.json\n",
        "!cp {BACK_UP_DATASET_PATH}/val.txt filelists/val.txt\n",
        "!cp {BACK_UP_DATASET_PATH}/train.txt filelists/train.txt"
      ],
      "metadata": {
        "cellView": "form",
        "id": "dAzZYn0kXOxh"
      },
      "execution_count": null,
      "outputs": []
    },
    {
      "cell_type": "code",
      "source": [
        "#@title Предварительные настройки\n",
        "Clone = \"44k\"\n",
        "%cd /content/so-vits-svc\n",
        "\n",
        "#@markdown **Сохраните файлы обученной модели в Google Drive вместо файловой системы среды выполнения colab. Вам также необходимо проверить и выполнить эту опцию при возобновлении обучения. Если у вас мало места на диске, вы можете снять этот флажок (в этом случае вы должны использовать меню файл, чтобы вручную загрузить контрольные точки модели в so-vits-svc/logs/ и скопировать последнюю контрольную точку обратно в so-vits-svc/logs/ для возобновления обучения).**\n",
        "Save_to_drive = True #@param {type:\"boolean\"}\n",
        "if Save_to_drive:\n",
        "  !rm -rf /content/so-vits-svc/logs/\"{Clone}\"\n",
        "  !mkdir -p /content/drive/MyDrive/\"{Clone}\"\n",
        "  !ln -s /content/drive/MyDrive/\"{Clone}\" /content/so-vits-svc/logs/\"{Clone}\"\n",
        "\n",
        "#@markdown **Загрузить предварительно обученую модель. НЕ ВЫПОЛНЯТЬ ПРИ ПРОДОЛЖЕНИИ ТРЕНИРОВКИ!!!**\n",
        "pre_pth = True #@param {type:\"boolean\"}\n",
        "if pre_pth:\n",
        "  !wget -O logs/\"{Clone}\"/G_0.pth -P logs/\"{Clone}\"/ https://huggingface.co/therealvul/so-vits-svc-4.0-init/resolve/main/G_0.pth\n",
        "  !wget -O logs/\"{Clone}\"/D_0.pth -P logs/\"{Clone}\"/ https://huggingface.co/therealvul/so-vits-svc-4.0-init/resolve/main/D_0.pth\n"
      ],
      "metadata": {
        "id": "l8J2ubh9KV5J",
        "cellView": "form"
      },
      "execution_count": null,
      "outputs": []
    },
    {
      "cell_type": "code",
      "source": [
        "#@title Запустить тренировку\n",
        "#@markdown **Запустить тренировку**\n",
        "Clone = \"44k\"\n",
        "\n",
        "#@markdown **Включить Tensorboard для визуализации прогресса**\n",
        "tensorboard_on = True #@param {type:\"boolean\"}\n",
        "if tensorboard_on:\n",
        "  %load_ext tensorboard\n",
        "  %tensorboard --logdir logs/\"{Clone}\"\n",
        "\n",
        "!python train.py -c configs/config.json -m \"{Clone}\"\n"
      ],
      "metadata": {
        "id": "-hEFFTCfZf57",
        "cellView": "form"
      },
      "execution_count": null,
      "outputs": []
    }
  ]
}